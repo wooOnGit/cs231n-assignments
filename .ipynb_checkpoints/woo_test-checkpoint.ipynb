{
 "cells": [
  {
   "cell_type": "code",
   "execution_count": 1,
   "metadata": {},
   "outputs": [
    {
     "name": "stdout",
     "output_type": "stream",
     "text": [
      "--2020-01-01 05:34:13--  http://cs231n.stanford.edu/assignments/2017/spring1617_assignment1.zip\n",
      "Resolving cs231n.stanford.edu (cs231n.stanford.edu)... 171.64.68.10\n",
      "Connecting to cs231n.stanford.edu (cs231n.stanford.edu)|171.64.68.10|:80... connected.\n",
      "HTTP request sent, awaiting response... 200 OK\n",
      "Length: 43035 (42K) [application/zip]\n",
      "Saving to: ‘spring1617_assignment1.zip’\n",
      "\n",
      "spring1617_assignme 100%[===================>]  42.03K  --.-KB/s    in 0.04s   \n",
      "\n",
      "2020-01-01 05:34:13 (1.08 MB/s) - ‘spring1617_assignment1.zip’ saved [43035/43035]\n",
      "\n"
     ]
    }
   ],
   "source": [
    "!wget http://cs231n.stanford.edu/assignments/2017/spring1617_assignment1.zip"
   ]
  },
  {
   "cell_type": "code",
   "execution_count": 2,
   "metadata": {},
   "outputs": [
    {
     "name": "stdout",
     "output_type": "stream",
     "text": [
      "spring1617_assignment1.zip  Untitled.ipynb\r\n"
     ]
    }
   ],
   "source": [
    "!ls"
   ]
  },
  {
   "cell_type": "code",
   "execution_count": 3,
   "metadata": {},
   "outputs": [
    {
     "name": "stdout",
     "output_type": "stream",
     "text": [
      "Archive:  spring1617_assignment1.zip\r\n",
      "   creating: assignment1/\r\n",
      "  inflating: assignment1/two_layer_net.ipynb  \r\n",
      "  inflating: assignment1/README.md   \r\n",
      "  inflating: assignment1/collectSubmission.sh  \r\n",
      "  inflating: assignment1/svm.ipynb   \r\n",
      "  inflating: assignment1/requirements.txt  \r\n",
      "  inflating: assignment1/setup_googlecloud.sh  \r\n",
      "  inflating: assignment1/start_ipython_osx.sh  \r\n",
      "  inflating: assignment1/knn.ipynb   \r\n",
      "  inflating: assignment1/frameworkpython  \r\n",
      "   creating: assignment1/cs231n/\r\n",
      "  inflating: assignment1/cs231n/gradient_check.py  \r\n",
      "   creating: assignment1/cs231n/datasets/\r\n",
      "  inflating: assignment1/cs231n/datasets/get_datasets.sh  \r\n",
      "  inflating: assignment1/cs231n/datasets/.gitignore  \r\n",
      " extracting: assignment1/cs231n/__init__.py  \r\n",
      "  inflating: assignment1/cs231n/features.py  \r\n",
      "   creating: assignment1/cs231n/classifiers/\r\n",
      "  inflating: assignment1/cs231n/classifiers/linear_classifier.py  \r\n",
      "  inflating: assignment1/cs231n/classifiers/linear_svm.py  \r\n",
      "  inflating: assignment1/cs231n/classifiers/neural_net.py  \r\n",
      "  inflating: assignment1/cs231n/classifiers/softmax.py  \r\n",
      "  inflating: assignment1/cs231n/classifiers/__init__.py  \r\n",
      "  inflating: assignment1/cs231n/classifiers/k_nearest_neighbor.py  \r\n",
      "  inflating: assignment1/cs231n/vis_utils.py  \r\n",
      "  inflating: assignment1/cs231n/data_utils.py  \r\n",
      " extracting: assignment1/.gitignore  \r\n",
      "  inflating: assignment1/features.ipynb  \r\n",
      "  inflating: assignment1/softmax.ipynb  \r\n"
     ]
    }
   ],
   "source": [
    "!unzip spring1617_assignment1.zip"
   ]
  },
  {
   "cell_type": "code",
   "execution_count": 4,
   "metadata": {},
   "outputs": [
    {
     "name": "stdout",
     "output_type": "stream",
     "text": [
      "assignment1  spring1617_assignment1.zip  Untitled.ipynb\r\n"
     ]
    }
   ],
   "source": [
    "!ls"
   ]
  },
  {
   "cell_type": "code",
   "execution_count": 5,
   "metadata": {},
   "outputs": [],
   "source": [
    "!rm -rf spring1617_assignment1.zip"
   ]
  },
  {
   "cell_type": "code",
   "execution_count": 6,
   "metadata": {},
   "outputs": [
    {
     "name": "stdout",
     "output_type": "stream",
     "text": [
      "assignment1  Untitled.ipynb\r\n"
     ]
    }
   ],
   "source": [
    "!ls"
   ]
  },
  {
   "cell_type": "code",
   "execution_count": 13,
   "metadata": {},
   "outputs": [
    {
     "name": "stdout",
     "output_type": "stream",
     "text": [
      "--2020-01-01 05:39:26--  http://cs231n.stanford.edu/assignments/2017/spring1617_assignment3_v3.zip\n",
      "Resolving cs231n.stanford.edu (cs231n.stanford.edu)... 171.64.68.10\n",
      "Connecting to cs231n.stanford.edu (cs231n.stanford.edu)|171.64.68.10|:80... connected.\n",
      "HTTP request sent, awaiting response... 200 OK\n",
      "Length: 4076212 (3.9M) [application/zip]\n",
      "Saving to: ‘spring1617_assignment3_v3.zip’\n",
      "\n",
      "spring1617_assignme 100%[===================>]   3.89M  6.46MB/s    in 0.6s    \n",
      "\n",
      "2020-01-01 05:39:26 (6.46 MB/s) - ‘spring1617_assignment3_v3.zip’ saved [4076212/4076212]\n",
      "\n"
     ]
    }
   ],
   "source": [
    "!wget http://cs231n.stanford.edu/assignments/2017/spring1617_assignment3_v3.zip"
   ]
  },
  {
   "cell_type": "code",
   "execution_count": 14,
   "metadata": {},
   "outputs": [
    {
     "name": "stdout",
     "output_type": "stream",
     "text": [
      "assignment1  assignment2  spring1617_assignment3_v3.zip  Untitled.ipynb\r\n"
     ]
    }
   ],
   "source": [
    "!ls"
   ]
  },
  {
   "cell_type": "code",
   "execution_count": 15,
   "metadata": {},
   "outputs": [
    {
     "name": "stdout",
     "output_type": "stream",
     "text": [
      "Archive:  spring1617_assignment3_v3.zip\r\n",
      "   creating: assignment3/\r\n",
      " extracting: assignment3/.gitignore  \r\n",
      "  inflating: assignment3/collectSubmission.sh  \r\n",
      "   creating: assignment3/cs231n/\r\n",
      "  inflating: assignment3/cs231n/.gitignore  \r\n",
      " extracting: assignment3/cs231n/__init__.py  \r\n",
      "  inflating: assignment3/cs231n/captioning_solver.py  \r\n",
      "   creating: assignment3/cs231n/classifiers/\r\n",
      " extracting: assignment3/cs231n/classifiers/__init__.py  \r\n",
      "  inflating: assignment3/cs231n/classifiers/rnn.py  \r\n",
      "  inflating: assignment3/cs231n/classifiers/squeezenet.py  \r\n",
      "  inflating: assignment3/cs231n/coco_utils.py  \r\n",
      "  inflating: assignment3/cs231n/data_utils.py  \r\n",
      "   creating: assignment3/cs231n/datasets/\r\n",
      "  inflating: assignment3/cs231n/datasets/get_assignment3_data.sh  \r\n",
      "  inflating: assignment3/cs231n/datasets/get_coco_captioning.sh  \r\n",
      " extracting: assignment3/cs231n/datasets/get_imagenet_val.sh  \r\n",
      "  inflating: assignment3/cs231n/datasets/get_squeezenet_tf.sh  \r\n",
      "  inflating: assignment3/cs231n/fast_layers.py  \r\n",
      "  inflating: assignment3/cs231n/gradient_check.py  \r\n",
      "  inflating: assignment3/cs231n/im2col.py  \r\n",
      "  inflating: assignment3/cs231n/im2col_cython.pyx  \r\n",
      "  inflating: assignment3/cs231n/image_utils.py  \r\n",
      "  inflating: assignment3/cs231n/layer_utils.py  \r\n",
      "  inflating: assignment3/cs231n/layers.py  \r\n",
      "  inflating: assignment3/cs231n/optim.py  \r\n",
      "  inflating: assignment3/cs231n/rnn_layers.py  \r\n",
      "  inflating: assignment3/cs231n/setup.py  \r\n",
      "  inflating: assignment3/example_styletransfer.png  \r\n",
      "  inflating: assignment3/frameworkpython  \r\n",
      "  inflating: assignment3/gan-checks-tf.npz  \r\n",
      "  inflating: assignment3/gan_outputs_pytorch.png  \r\n",
      "  inflating: assignment3/gan_outputs_tf.png  \r\n",
      "  inflating: assignment3/GANs-PyTorch.ipynb  \r\n",
      "  inflating: assignment3/GANs-TensorFlow.ipynb  \r\n",
      "  inflating: assignment3/kitten.jpg  \r\n",
      "  inflating: assignment3/LSTM_Captioning.ipynb  \r\n",
      "  inflating: assignment3/NetworkVisualization-PyTorch.ipynb  \r\n",
      "  inflating: assignment3/NetworkVisualization-TensorFlow.ipynb  \r\n",
      "  inflating: assignment3/requirements.txt  \r\n",
      "  inflating: assignment3/RNN_Captioning.ipynb  \r\n",
      "  inflating: assignment3/sky.jpg     \r\n",
      "  inflating: assignment3/start_ipython_osx.sh  \r\n",
      "  inflating: assignment3/style-transfer-checks-tf.npz  \r\n",
      "  inflating: assignment3/style-transfer-checks.npz  \r\n",
      "   creating: assignment3/styles/\r\n",
      "  inflating: assignment3/styles/composition_vii.jpg  \r\n",
      "  inflating: assignment3/styles/muse.jpg  \r\n",
      "  inflating: assignment3/styles/starry_night.jpg  \r\n",
      "  inflating: assignment3/styles/the_scream.jpg  \r\n",
      "  inflating: assignment3/styles/tubingen.jpg  \r\n",
      "  inflating: assignment3/StyleTransfer-PyTorch.ipynb  \r\n",
      "  inflating: assignment3/StyleTransfer-TensorFlow.ipynb  \r\n",
      "  inflating: assignment3/where_are_my_drivers.sh  \r\n"
     ]
    }
   ],
   "source": [
    "!unzip spring1617_assignment3_v3.zip"
   ]
  },
  {
   "cell_type": "code",
   "execution_count": 18,
   "metadata": {},
   "outputs": [
    {
     "name": "stdout",
     "output_type": "stream",
     "text": [
      "assignment1  assignment2  assignment3  Untitled.ipynb\r\n"
     ]
    }
   ],
   "source": [
    "!ls"
   ]
  },
  {
   "cell_type": "code",
   "execution_count": 17,
   "metadata": {},
   "outputs": [],
   "source": [
    "!rm -rf spring1617_assignment3_v3.zip"
   ]
  },
  {
   "cell_type": "code",
   "execution_count": 19,
   "metadata": {},
   "outputs": [],
   "source": [
    "!./assignment1cd/cs231n/datasets/"
   ]
  },
  {
   "cell_type": "code",
   "execution_count": 21,
   "metadata": {},
   "outputs": [
    {
     "name": "stdout",
     "output_type": "stream",
     "text": [
      "--2020-01-01 05:42:47--  http://www.cs.toronto.edu/~kriz/cifar-10-python.tar.gz\n",
      "Resolving www.cs.toronto.edu (www.cs.toronto.edu)... 128.100.3.30\n",
      "Connecting to www.cs.toronto.edu (www.cs.toronto.edu)|128.100.3.30|:80... connected.\n",
      "HTTP request sent, awaiting response... 200 OK\n",
      "Length: 170498071 (163M) [application/x-gzip]\n",
      "Saving to: ‘cifar-10-python.tar.gz’\n",
      "\n",
      "cifar-10-python.tar 100%[===================>] 162.60M  46.2MB/s    in 3.9s    \n",
      "\n",
      "2020-01-01 05:42:51 (41.5 MB/s) - ‘cifar-10-python.tar.gz’ saved [170498071/170498071]\n",
      "\n",
      "cifar-10-batches-py/\n",
      "cifar-10-batches-py/data_batch_4\n",
      "cifar-10-batches-py/readme.html\n",
      "cifar-10-batches-py/test_batch\n",
      "cifar-10-batches-py/data_batch_3\n",
      "cifar-10-batches-py/batches.meta\n",
      "cifar-10-batches-py/data_batch_2\n",
      "cifar-10-batches-py/data_batch_5\n",
      "cifar-10-batches-py/data_batch_1\n"
     ]
    }
   ],
   "source": [
    "!cd assignment1/cs231n/datasets && ./get_datasets.sh"
   ]
  },
  {
   "cell_type": "code",
   "execution_count": 23,
   "metadata": {},
   "outputs": [
    {
     "name": "stdout",
     "output_type": "stream",
     "text": [
      "usage: git [--version] [--help] [-C <path>] [-c name=value]\r\n",
      "           [--exec-path[=<path>]] [--html-path] [--man-path] [--info-path]\r\n",
      "           [-p | --paginate | --no-pager] [--no-replace-objects] [--bare]\r\n",
      "           [--git-dir=<path>] [--work-tree=<path>] [--namespace=<name>]\r\n",
      "           <command> [<args>]\r\n",
      "\r\n",
      "These are common Git commands used in various situations:\r\n",
      "\r\n",
      "start a working area (see also: git help tutorial)\r\n",
      "   clone      Clone a repository into a new directory\r\n",
      "   init       Create an empty Git repository or reinitialize an existing one\r\n",
      "\r\n",
      "work on the current change (see also: git help everyday)\r\n",
      "   add        Add file contents to the index\r\n",
      "   mv         Move or rename a file, a directory, or a symlink\r\n",
      "   reset      Reset current HEAD to the specified state\r\n",
      "   rm         Remove files from the working tree and from the index\r\n",
      "\r\n",
      "examine the history and state (see also: git help revisions)\r\n",
      "   bisect     Use binary search to find the commit that introduced a bug\r\n",
      "   grep       Print lines matching a pattern\r\n",
      "   log        Show commit logs\r\n",
      "   show       Show various types of objects\r\n",
      "   status     Show the working tree status\r\n",
      "\r\n",
      "grow, mark and tweak your common history\r\n",
      "   branch     List, create, or delete branches\r\n",
      "   checkout   Switch branches or restore working tree files\r\n",
      "   commit     Record changes to the repository\r\n",
      "   diff       Show changes between commits, commit and working tree, etc\r\n",
      "   merge      Join two or more development histories together\r\n",
      "   rebase     Reapply commits on top of another base tip\r\n",
      "   tag        Create, list, delete or verify a tag object signed with GPG\r\n",
      "\r\n",
      "collaborate (see also: git help workflows)\r\n",
      "   fetch      Download objects and refs from another repository\r\n",
      "   pull       Fetch from and integrate with another repository or a local branch\r\n",
      "   push       Update remote refs along with associated objects\r\n",
      "\r\n",
      "'git help -a' and 'git help -g' list available subcommands and some\r\n",
      "concept guides. See 'git help <command>' or 'git help <concept>'\r\n",
      "to read about a specific subcommand or concept.\r\n"
     ]
    }
   ],
   "source": [
    "!git"
   ]
  },
  {
   "cell_type": "code",
   "execution_count": null,
   "metadata": {},
   "outputs": [],
   "source": []
  }
 ],
 "metadata": {
  "kernelspec": {
   "display_name": "Python 3",
   "language": "python",
   "name": "python3"
  },
  "language_info": {
   "codemirror_mode": {
    "name": "ipython",
    "version": 3
   },
   "file_extension": ".py",
   "mimetype": "text/x-python",
   "name": "python",
   "nbconvert_exporter": "python",
   "pygments_lexer": "ipython3",
   "version": "3.7.4"
  }
 },
 "nbformat": 4,
 "nbformat_minor": 2
}
